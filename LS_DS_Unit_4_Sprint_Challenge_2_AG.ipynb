{
  "nbformat": 4,
  "nbformat_minor": 0,
  "metadata": {
    "kernelspec": {
      "display_name": "Python 3",
      "language": "python",
      "name": "python3"
    },
    "language_info": {
      "codemirror_mode": {
        "name": "ipython",
        "version": 3
      },
      "file_extension": ".py",
      "mimetype": "text/x-python",
      "name": "python",
      "nbconvert_exporter": "python",
      "pygments_lexer": "ipython3",
      "version": "3.8.5"
    },
    "colab": {
      "name": "LS_DS_Unit_4_Sprint_Challenge_2_AG.ipynb",
      "provenance": [],
      "include_colab_link": true
    }
  },
  "cells": [
    {
      "cell_type": "markdown",
      "metadata": {
        "id": "view-in-github",
        "colab_type": "text"
      },
      "source": [
        "<a href=\"https://colab.research.google.com/github/laguz/DS-Unit-4-Sprint-2-Neural-Networks/blob/dependabot%2Fpip%2Ftensorflow-2.5.0/LS_DS_Unit_4_Sprint_Challenge_2_AG.ipynb\" target=\"_parent\"><img src=\"https://colab.research.google.com/assets/colab-badge.svg\" alt=\"Open In Colab\"/></a>"
      ]
    },
    {
      "cell_type": "markdown",
      "metadata": {
        "id": "6BEtHbU7TGh8"
      },
      "source": [
        "\n",
        "## Autograded Notebook (Canvas & CodeGrade)\n",
        "\n",
        "This notebook will be automatically graded. It is designed to test your answers and award points for the correct answers. Following the instructions for each Task carefully.\n",
        "Instructions\n",
        "\n",
        "- **Download** this notebook as you would any other ipynb file \n",
        "- **Upload** to Google Colab or work locally (if you have that set-up)\n",
        "- **Delete** `raise NotImplementedError()`\n",
        "\n",
        "- **Write** your code in the `# YOUR CODE HERE` space\n",
        "\n",
        "\n",
        "- **Execute** the Test cells that contain assert statements - these help you check your work (others contain hidden tests that will be checked when you submit through Canvas)\n",
        "\n",
        "- **Save** your notebook when you are finished\n",
        "- **Download** as a ipynb file (if working in Colab)\n",
        "- **Upload** your complete notebook to Canvas (there will be additional instructions in Slack and/or Canvas)\n",
        "\n"
      ]
    },
    {
      "cell_type": "markdown",
      "metadata": {
        "id": "Lez9HsOqTGh-"
      },
      "source": [
        "\n",
        "## *Data Science Unit 4 Sprint 2*\n",
        "\n",
        "# Sprint Challenge - Neural Network Foundations\n",
        "\n",
        "Table of Problems\n",
        "\n",
        "1. [Defining Neural Networks](#Q1)\n",
        "2. [Simple Perceptron](#Q2)\n",
        "    - Perceptron\n",
        "    - Multilayer Perceptron (i.e. Neural Network)\n",
        "    - Analyze and Compare\n",
        "4. [Keras MMP](#Q3)\n",
        "\n",
        "\n",
        "____\n",
        "\n",
        "# Before you submit your notebook you must first\n",
        "\n",
        "1) Restart your notebook's Kernel\n",
        "\n",
        "2) Run all cells sequentially, from top to bottom, so that cell numbers are sequential numbers (i.e. 1,2,3,4,5...)\n",
        "- Easiest way to do this is to click on the **Cell** tab at the top of your notebook and select **Run All** from the drop down menu. \n",
        "\n",
        "____"
      ]
    },
    {
      "cell_type": "markdown",
      "metadata": {
        "deletable": false,
        "editable": false,
        "nbgrader": {
          "cell_type": "markdown",
          "checksum": "a2d017ba3200be3890c0b67eda283c48",
          "grade": false,
          "grade_id": "cell-621a8b86bacf295a",
          "locked": true,
          "points": 0,
          "schema_version": 3,
          "solution": false,
          "task": true
        },
        "id": "Y03F-mKeTGh_"
      },
      "source": [
        "<a id=\"Q1\"></a>\n",
        "## 1. Defining Neural Networks \n",
        "\n",
        "Write *your own* definitions for the following terms:\n",
        "\n",
        "- **Neuron:** is a unit that take input data and give a output base on the data.\n",
        "\n",
        "- **Input Layer:** is the first layer of neuron of a Neural Networks.\n",
        "\n",
        "- **Hidden Layer:** is the layer/s of the Neural Networks that change the input layer data to pass to the output layer.\n",
        "\n",
        "- **Output Layer:** is the layer that get the process data from the hidden layer/s\n",
        "\n",
        "- **Activation:** is the function that determine the output of the Neural Networks."
      ]
    },
    {
      "cell_type": "markdown",
      "metadata": {
        "deletable": false,
        "nbgrader": {
          "cell_type": "markdown",
          "checksum": "7233c31461609b21a7fc2651afb12632",
          "grade": true,
          "grade_id": "cell-6adae65226f09553",
          "locked": false,
          "points": 0,
          "schema_version": 3,
          "solution": true,
          "task": false
        },
        "id": "VCH-uitYTGh_"
      },
      "source": [
        "YOUR ANSWER HERE"
      ]
    },
    {
      "cell_type": "markdown",
      "metadata": {
        "deletable": false,
        "editable": false,
        "nbgrader": {
          "cell_type": "markdown",
          "checksum": "10aa095d3db59bfe47f9823cfd62f1ef",
          "grade": false,
          "grade_id": "cell-d64f1de9e9458dc7",
          "locked": true,
          "points": 0,
          "schema_version": 3,
          "solution": false,
          "task": true
        },
        "id": "G55Q7tMKTGh_"
      },
      "source": [
        "- `Explain` how Back-propagation works \n",
        "- `Explain` how Gradient Descent works (mention the learning rate)\n",
        "- `Explain` how Back-propagation and Gradient Descent are related   \n",
        "\n",
        "Use your own words, but feel free to reference external materials for this question. "
      ]
    },
    {
      "cell_type": "markdown",
      "metadata": {
        "deletable": false,
        "nbgrader": {
          "cell_type": "markdown",
          "checksum": "ceb3f64a4b1b18346decf75c8f5567d2",
          "grade": true,
          "grade_id": "cell-cef20b23d4e0b056",
          "locked": false,
          "points": 0,
          "schema_version": 3,
          "solution": true,
          "task": false
        },
        "id": "fAExcqMdTGh_"
      },
      "source": [
        "YOUR ANSWER HERE"
      ]
    },
    {
      "cell_type": "markdown",
      "metadata": {
        "deletable": false,
        "editable": false,
        "nbgrader": {
          "cell_type": "markdown",
          "checksum": "e040f3ddce6eb34b017f0eb685b202e6",
          "grade": false,
          "grade_id": "cell-e013d19857352d79",
          "locked": true,
          "points": 0,
          "schema_version": 3,
          "solution": false,
          "task": true
        },
        "id": "H5mumZl4TGiA"
      },
      "source": [
        "Remember our Simple Perceptron Class from Monday. \n",
        "\n",
        "- Describe the process of making a prediction, i.e. how do you go from inputs to outputs?"
      ]
    },
    {
      "cell_type": "markdown",
      "metadata": {
        "deletable": false,
        "nbgrader": {
          "cell_type": "markdown",
          "checksum": "d746de6391012340f8548821850a621c",
          "grade": true,
          "grade_id": "cell-53c7cc36db9d7983",
          "locked": false,
          "points": 0,
          "schema_version": 3,
          "solution": true,
          "task": false
        },
        "id": "s20c2jTVTGiA"
      },
      "source": [
        "YOUR ANSWER HERE"
      ]
    },
    {
      "cell_type": "markdown",
      "metadata": {
        "id": "eULY5KHKTGiA"
      },
      "source": [
        "<a id=\"Q2\"></a>\n",
        "## 2. Simple Perceptron\n",
        "\n",
        "In this question, you will build two neural networks using `Keras`. After you build these two models, compare the results of the model."
      ]
    },
    {
      "cell_type": "code",
      "metadata": {
        "id": "ZlyaFBfQTGiA"
      },
      "source": [
        "\"\"\"\n",
        "Our Dataset\n",
        "\"\"\"\n",
        "import numpy as np\n",
        "\n",
        "\n",
        "rng = np.random.RandomState(0)\n",
        "\n",
        "\"Use this X & y in the following 2 models\"\n",
        "X = rng.randn(300, 2)\n",
        "y = np.array(np.logical_xor(X[:, 0] > 0, X[:, 1] > 0), \n",
        "             dtype=int)"
      ],
      "execution_count": 1,
      "outputs": []
    },
    {
      "cell_type": "code",
      "metadata": {
        "colab": {
          "base_uri": "https://localhost:8080/"
        },
        "id": "S6f9DC1NTGiB",
        "outputId": "8cd71e6f-92b9-47ff-f8b9-364703b56c72"
      },
      "source": [
        "X.shape"
      ],
      "execution_count": 2,
      "outputs": [
        {
          "output_type": "execute_result",
          "data": {
            "text/plain": [
              "(300, 2)"
            ]
          },
          "metadata": {
            "tags": []
          },
          "execution_count": 2
        }
      ]
    },
    {
      "cell_type": "code",
      "metadata": {
        "colab": {
          "base_uri": "https://localhost:8080/"
        },
        "id": "mYPGrUAkTGiB",
        "outputId": "a19d4d01-4bbf-406b-cf23-ba800985cb65"
      },
      "source": [
        "y"
      ],
      "execution_count": 3,
      "outputs": [
        {
          "output_type": "execute_result",
          "data": {
            "text/plain": [
              "array([0, 0, 1, 1, 1, 0, 0, 0, 1, 1, 1, 1, 1, 1, 0, 0, 0, 1, 0, 0, 0, 1,\n",
              "       0, 1, 0, 1, 0, 1, 0, 0, 0, 0, 1, 1, 1, 0, 1, 1, 0, 1, 1, 1, 0, 1,\n",
              "       1, 1, 0, 0, 0, 0, 1, 1, 1, 0, 0, 0, 1, 1, 1, 0, 1, 0, 0, 1, 0, 1,\n",
              "       1, 1, 1, 1, 1, 0, 0, 1, 0, 1, 0, 0, 1, 0, 1, 0, 1, 0, 0, 0, 1, 1,\n",
              "       0, 1, 0, 0, 1, 1, 1, 1, 0, 1, 0, 0, 0, 0, 1, 0, 1, 0, 1, 0, 1, 1,\n",
              "       0, 1, 1, 0, 0, 0, 1, 1, 1, 0, 0, 0, 0, 0, 0, 1, 1, 0, 0, 1, 0, 0,\n",
              "       1, 0, 1, 1, 0, 0, 1, 1, 1, 1, 0, 1, 0, 0, 1, 1, 0, 1, 1, 0, 1, 0,\n",
              "       1, 1, 0, 1, 0, 0, 0, 1, 0, 1, 1, 1, 1, 1, 1, 1, 1, 0, 0, 1, 0, 0,\n",
              "       1, 0, 0, 1, 0, 0, 1, 0, 0, 1, 1, 0, 1, 1, 1, 0, 1, 0, 0, 1, 0, 0,\n",
              "       0, 0, 0, 0, 1, 0, 0, 1, 0, 0, 0, 0, 0, 1, 1, 1, 1, 0, 0, 1, 0, 0,\n",
              "       0, 1, 1, 1, 0, 1, 0, 0, 0, 1, 0, 1, 1, 0, 1, 0, 0, 0, 1, 0, 0, 0,\n",
              "       1, 0, 1, 0, 0, 1, 0, 0, 1, 1, 0, 0, 1, 0, 0, 1, 0, 0, 0, 0, 1, 0,\n",
              "       1, 1, 0, 0, 0, 0, 1, 1, 0, 1, 1, 0, 1, 1, 1, 0, 1, 1, 1, 0, 0, 1,\n",
              "       0, 1, 0, 1, 0, 1, 0, 1, 0, 0, 0, 0, 0, 0])"
            ]
          },
          "metadata": {
            "tags": []
          },
          "execution_count": 3
        }
      ]
    },
    {
      "cell_type": "code",
      "metadata": {
        "colab": {
          "base_uri": "https://localhost:8080/"
        },
        "id": "lMY622wnTGiB",
        "outputId": "0b236726-bd25-4d88-dbc4-0a0e39e35099"
      },
      "source": [
        "2**2"
      ],
      "execution_count": 4,
      "outputs": [
        {
          "output_type": "execute_result",
          "data": {
            "text/plain": [
              "4"
            ]
          },
          "metadata": {
            "tags": []
          },
          "execution_count": 4
        }
      ]
    },
    {
      "cell_type": "code",
      "metadata": {
        "colab": {
          "base_uri": "https://localhost:8080/"
        },
        "id": "fiL_ixUKTGiB",
        "outputId": "ad487e4d-0c2c-4aac-a1b3-64226abf2bb5"
      },
      "source": [
        "4**4"
      ],
      "execution_count": 5,
      "outputs": [
        {
          "output_type": "execute_result",
          "data": {
            "text/plain": [
              "256"
            ]
          },
          "metadata": {
            "tags": []
          },
          "execution_count": 5
        }
      ]
    },
    {
      "cell_type": "code",
      "metadata": {
        "colab": {
          "base_uri": "https://localhost:8080/"
        },
        "id": "NnpVPcTeTGiB",
        "outputId": "d912e06b-f892-4ec9-dc02-29a3e7103848"
      },
      "source": [
        "3**3"
      ],
      "execution_count": 36,
      "outputs": [
        {
          "output_type": "execute_result",
          "data": {
            "text/plain": [
              "27"
            ]
          },
          "metadata": {
            "tags": []
          },
          "execution_count": 36
        }
      ]
    },
    {
      "cell_type": "code",
      "metadata": {
        "id": "NHOMKnbxTGiB"
      },
      "source": [
        ""
      ],
      "execution_count": null,
      "outputs": []
    },
    {
      "cell_type": "markdown",
      "metadata": {
        "id": "sENwQobwTGiB"
      },
      "source": [
        "This word is speled wrong. "
      ]
    },
    {
      "cell_type": "markdown",
      "metadata": {
        "id": "S6fqfhUvTGiC"
      },
      "source": [
        "### Simple Perceptron\n",
        "Construct a simple perceptron using Keras. \n",
        "\n",
        "Make sure to include the following in your model:\n",
        "- Add `1 dense layer` with a `single neuron` \n",
        "- Use a `sigmoid activation function`\n",
        "- Set `epochs` to 10 \n",
        "- Use the version of `crossentropy loss` that is appropriate for this data.\n",
        "\n",
        "Your model should be called `model1` and make sure to save the results of your fit statement to a variable called `h1`. \n"
      ]
    },
    {
      "cell_type": "code",
      "metadata": {
        "deletable": false,
        "nbgrader": {
          "cell_type": "code",
          "checksum": "67e9f7297eb22a79437494d713d74b71",
          "grade": false,
          "grade_id": "cell-427690628f9c900b",
          "locked": false,
          "schema_version": 3,
          "solution": true,
          "task": false
        },
        "colab": {
          "base_uri": "https://localhost:8080/"
        },
        "id": "6mjIPIa7TGiC",
        "outputId": "9c932dec-d3c1-4203-d4b1-60033b2eaa9c"
      },
      "source": [
        "import tensorflow\n",
        "from tensorflow.keras.models import Sequential\n",
        "from tensorflow.keras.layers import Dense\n",
        "\n",
        "# build and fit model\n",
        "\n",
        "# YOUR CODE HERE\n",
        "# Perceptron model\n",
        "\n",
        "model1 = Sequential()\n",
        "model1.add(Dense(1,input_dim=2, activation='sigmoid'))\n",
        "model1.compile(loss='binary_crossentropy', optimizer='adam', metrics=['accuracy'])\n",
        "model1.fit(X,y, epochs=10);"
      ],
      "execution_count": 15,
      "outputs": [
        {
          "output_type": "stream",
          "text": [
            "Epoch 1/10\n",
            "10/10 [==============================] - 0s 1ms/step - loss: 0.7299 - accuracy: 0.4833\n",
            "Epoch 2/10\n",
            "10/10 [==============================] - 0s 1ms/step - loss: 0.7284 - accuracy: 0.4833\n",
            "Epoch 3/10\n",
            "10/10 [==============================] - 0s 1ms/step - loss: 0.7267 - accuracy: 0.4833\n",
            "Epoch 4/10\n",
            "10/10 [==============================] - 0s 1ms/step - loss: 0.7252 - accuracy: 0.4833\n",
            "Epoch 5/10\n",
            "10/10 [==============================] - 0s 1ms/step - loss: 0.7237 - accuracy: 0.4800\n",
            "Epoch 6/10\n",
            "10/10 [==============================] - 0s 1ms/step - loss: 0.7223 - accuracy: 0.4800\n",
            "Epoch 7/10\n",
            "10/10 [==============================] - 0s 1ms/step - loss: 0.7210 - accuracy: 0.4800\n",
            "Epoch 8/10\n",
            "10/10 [==============================] - 0s 1ms/step - loss: 0.7197 - accuracy: 0.4800\n",
            "Epoch 9/10\n",
            "10/10 [==============================] - 0s 1ms/step - loss: 0.7184 - accuracy: 0.4733\n",
            "Epoch 10/10\n",
            "10/10 [==============================] - 0s 1ms/step - loss: 0.7172 - accuracy: 0.4700\n"
          ],
          "name": "stdout"
        }
      ]
    },
    {
      "cell_type": "code",
      "metadata": {
        "deletable": false,
        "editable": false,
        "nbgrader": {
          "cell_type": "code",
          "checksum": "36f7f830036d0443ca8e8ba0f17b2a4e",
          "grade": true,
          "grade_id": "cell-bf2ae566afacde8c",
          "locked": true,
          "points": 1,
          "schema_version": 3,
          "solution": false,
          "task": false
        },
        "colab": {
          "base_uri": "https://localhost:8080/",
          "height": 198
        },
        "id": "IF-q-edrTGiC",
        "outputId": "ef660da9-ecda-4a8c-db0e-46b0b06a9986"
      },
      "source": [
        "# Visible test\n",
        "assert len(model1.get_config()[\"layers\"]) == 2, \"Make sure you only create 1 Dense layer.\"\n",
        "assert len(h1.epoch) <=10, \"Did you make sure to set epochs to 10 or less?\""
      ],
      "execution_count": 16,
      "outputs": [
        {
          "output_type": "error",
          "ename": "AttributeError",
          "evalue": "ignored",
          "traceback": [
            "\u001b[0;31m---------------------------------------------------------------------------\u001b[0m",
            "\u001b[0;31mAttributeError\u001b[0m                            Traceback (most recent call last)",
            "\u001b[0;32m<ipython-input-16-4bb039868c41>\u001b[0m in \u001b[0;36m<module>\u001b[0;34m()\u001b[0m\n\u001b[1;32m      1\u001b[0m \u001b[0;31m# Visible test\u001b[0m\u001b[0;34m\u001b[0m\u001b[0;34m\u001b[0m\u001b[0;34m\u001b[0m\u001b[0m\n\u001b[1;32m      2\u001b[0m \u001b[0;32massert\u001b[0m \u001b[0mlen\u001b[0m\u001b[0;34m(\u001b[0m\u001b[0mmodel1\u001b[0m\u001b[0;34m.\u001b[0m\u001b[0mget_config\u001b[0m\u001b[0;34m(\u001b[0m\u001b[0;34m)\u001b[0m\u001b[0;34m[\u001b[0m\u001b[0;34m\"layers\"\u001b[0m\u001b[0;34m]\u001b[0m\u001b[0;34m)\u001b[0m \u001b[0;34m==\u001b[0m \u001b[0;36m2\u001b[0m\u001b[0;34m,\u001b[0m \u001b[0;34m\"Make sure you only create 1 Dense layer.\"\u001b[0m\u001b[0;34m\u001b[0m\u001b[0;34m\u001b[0m\u001b[0m\n\u001b[0;32m----> 3\u001b[0;31m \u001b[0;32massert\u001b[0m \u001b[0mlen\u001b[0m\u001b[0;34m(\u001b[0m\u001b[0mh1\u001b[0m\u001b[0;34m.\u001b[0m\u001b[0mepoch\u001b[0m\u001b[0;34m)\u001b[0m \u001b[0;34m<=\u001b[0m\u001b[0;36m10\u001b[0m\u001b[0;34m,\u001b[0m \u001b[0;34m\"Did you make sure to set epochs to 10 or less?\"\u001b[0m\u001b[0;34m\u001b[0m\u001b[0;34m\u001b[0m\u001b[0m\n\u001b[0m",
            "\u001b[0;31mAttributeError\u001b[0m: 'int' object has no attribute 'epoch'"
          ]
        }
      ]
    },
    {
      "cell_type": "code",
      "metadata": {
        "colab": {
          "base_uri": "https://localhost:8080/"
        },
        "id": "e8wXq-fWTGiC",
        "outputId": "a0dd567a-297b-4655-d5c6-ddd2f6782606"
      },
      "source": [
        "model1.get_config()[\"layers\"]"
      ],
      "execution_count": 17,
      "outputs": [
        {
          "output_type": "execute_result",
          "data": {
            "text/plain": [
              "[{'class_name': 'InputLayer',\n",
              "  'config': {'batch_input_shape': (None, 2),\n",
              "   'dtype': 'float32',\n",
              "   'name': 'dense_3_input',\n",
              "   'ragged': False,\n",
              "   'sparse': False}},\n",
              " {'class_name': 'Dense',\n",
              "  'config': {'activation': 'sigmoid',\n",
              "   'activity_regularizer': None,\n",
              "   'batch_input_shape': (None, 2),\n",
              "   'bias_constraint': None,\n",
              "   'bias_initializer': {'class_name': 'Zeros', 'config': {}},\n",
              "   'bias_regularizer': None,\n",
              "   'dtype': 'float32',\n",
              "   'kernel_constraint': None,\n",
              "   'kernel_initializer': {'class_name': 'GlorotUniform',\n",
              "    'config': {'seed': None}},\n",
              "   'kernel_regularizer': None,\n",
              "   'name': 'dense_3',\n",
              "   'trainable': True,\n",
              "   'units': 1,\n",
              "   'use_bias': True}}]"
            ]
          },
          "metadata": {
            "tags": []
          },
          "execution_count": 17
        }
      ]
    },
    {
      "cell_type": "code",
      "metadata": {
        "deletable": false,
        "editable": false,
        "nbgrader": {
          "cell_type": "code",
          "checksum": "95d3ee2935a0de64f2a5a22460520e69",
          "grade": true,
          "grade_id": "cell-a957e14380b2f508",
          "locked": true,
          "points": 1,
          "schema_version": 3,
          "solution": false,
          "task": false
        },
        "id": "XK5H5KNzTGiC"
      },
      "source": [
        "# Hidden tests - you will see the results when you submit to Canvas"
      ],
      "execution_count": null,
      "outputs": []
    },
    {
      "cell_type": "markdown",
      "metadata": {
        "id": "Pdx6Wy0pTGiD"
      },
      "source": [
        "### Multi-Layer Perceptron\n",
        "Now construct a multi-layer perceptron model (also known as a neural network). \n",
        "\n",
        "Your neural network `must` have: \n",
        "- `2` Hidden Layers\n",
        "- Select any number between `5-32` for the number of neurons in each hidden layers\n",
        "- Your pick of activation function and optimizer\n",
        "- Incorporate the `Callback function` below into your model\n",
        "- Set epochs to `100`\n",
        "- Your model should be called `model2` \n",
        "- Save the results of your fit statement to a variable called `h2`. \n",
        "- Use the version of `crossentropy loss` that is appropriate for this data."
      ]
    },
    {
      "cell_type": "code",
      "metadata": {
        "id": "DUoBh3coTGiD"
      },
      "source": [
        "import tensorflow as tf\n",
        "\n",
        "class myCallback(tf.keras.callbacks.Callback): \n",
        "    def on_epoch_end(self, epoch, logs={}): \n",
        "        # if model reaches 99% accuracy, training is terminated \n",
        "        acc_threshold = 0.99\n",
        "        if(logs.get('accuracy') > acc_threshold):   \n",
        "            self.model.stop_training = True\n",
        "            self.model.callback_used = True"
      ],
      "execution_count": 18,
      "outputs": []
    },
    {
      "cell_type": "code",
      "metadata": {
        "deletable": false,
        "nbgrader": {
          "cell_type": "code",
          "checksum": "314337f29c8cd7f38224a31687a86b12",
          "grade": false,
          "grade_id": "cell-77523c4c64743f16",
          "locked": false,
          "schema_version": 3,
          "solution": true,
          "task": false
        },
        "colab": {
          "base_uri": "https://localhost:8080/"
        },
        "id": "hz-eOAOKTGiD",
        "outputId": "bd4bc49f-e572-4005-eb05-ad0aafd618de"
      },
      "source": [
        "# build and fit model\n",
        "\n",
        "# YOUR CODE HERE\n",
        "model2 = Sequential()\n",
        "model2.add(Dense(10,input_dim=2, activation='sigmoid'))\n",
        "model2.add(Dense(10, activation='relu'))\n",
        "model2.add(Dense(10, activation='relu'))\n",
        "\n",
        "model2.compile(loss='binary_crossentropy', optimizer='adam', metrics=['accuracy'])\n",
        "model2.fit(X,y, epochs=100);"
      ],
      "execution_count": 56,
      "outputs": [
        {
          "output_type": "stream",
          "text": [
            "Epoch 1/100\n",
            "10/10 [==============================] - 0s 1ms/step - loss: 3.7257 - accuracy: 0.4733\n",
            "Epoch 2/100\n",
            "10/10 [==============================] - 0s 2ms/step - loss: 3.5269 - accuracy: 0.4633\n",
            "Epoch 3/100\n",
            "10/10 [==============================] - 0s 2ms/step - loss: 3.4388 - accuracy: 0.4000\n",
            "Epoch 4/100\n",
            "10/10 [==============================] - 0s 2ms/step - loss: 3.4080 - accuracy: 0.3367\n",
            "Epoch 5/100\n",
            "10/10 [==============================] - 0s 1ms/step - loss: 3.3907 - accuracy: 0.2867\n",
            "Epoch 6/100\n",
            "10/10 [==============================] - 0s 2ms/step - loss: 3.3770 - accuracy: 0.2133\n",
            "Epoch 7/100\n",
            "10/10 [==============================] - 0s 2ms/step - loss: 3.3671 - accuracy: 0.1800\n",
            "Epoch 8/100\n",
            "10/10 [==============================] - 0s 2ms/step - loss: 3.3600 - accuracy: 0.1533\n",
            "Epoch 9/100\n",
            "10/10 [==============================] - 0s 1ms/step - loss: 3.3544 - accuracy: 0.1367\n",
            "Epoch 10/100\n",
            "10/10 [==============================] - 0s 1ms/step - loss: 3.3496 - accuracy: 0.1333\n",
            "Epoch 11/100\n",
            "10/10 [==============================] - 0s 2ms/step - loss: 3.3465 - accuracy: 0.1267\n",
            "Epoch 12/100\n",
            "10/10 [==============================] - 0s 3ms/step - loss: 3.3434 - accuracy: 0.1267\n",
            "Epoch 13/100\n",
            "10/10 [==============================] - 0s 2ms/step - loss: 3.3414 - accuracy: 0.1267\n",
            "Epoch 14/100\n",
            "10/10 [==============================] - 0s 2ms/step - loss: 3.3404 - accuracy: 0.1267\n",
            "Epoch 15/100\n",
            "10/10 [==============================] - 0s 2ms/step - loss: 3.3390 - accuracy: 0.1267\n",
            "Epoch 16/100\n",
            "10/10 [==============================] - 0s 2ms/step - loss: 3.3382 - accuracy: 0.1333\n",
            "Epoch 17/100\n",
            "10/10 [==============================] - 0s 1ms/step - loss: 3.3376 - accuracy: 0.1333\n",
            "Epoch 18/100\n",
            "10/10 [==============================] - 0s 2ms/step - loss: 3.3373 - accuracy: 0.1400\n",
            "Epoch 19/100\n",
            "10/10 [==============================] - 0s 1ms/step - loss: 3.3365 - accuracy: 0.1500\n",
            "Epoch 20/100\n",
            "10/10 [==============================] - 0s 1ms/step - loss: 3.3365 - accuracy: 0.1333\n",
            "Epoch 21/100\n",
            "10/10 [==============================] - 0s 1ms/step - loss: 3.3361 - accuracy: 0.1400\n",
            "Epoch 22/100\n",
            "10/10 [==============================] - 0s 2ms/step - loss: 3.3357 - accuracy: 0.1533\n",
            "Epoch 23/100\n",
            "10/10 [==============================] - 0s 1ms/step - loss: 3.3354 - accuracy: 0.1667\n",
            "Epoch 24/100\n",
            "10/10 [==============================] - 0s 2ms/step - loss: 3.3350 - accuracy: 0.1767\n",
            "Epoch 25/100\n",
            "10/10 [==============================] - 0s 1ms/step - loss: 3.3346 - accuracy: 0.1733\n",
            "Epoch 26/100\n",
            "10/10 [==============================] - 0s 2ms/step - loss: 3.3340 - accuracy: 0.1633\n",
            "Epoch 27/100\n",
            "10/10 [==============================] - 0s 2ms/step - loss: 3.3334 - accuracy: 0.1500\n",
            "Epoch 28/100\n",
            "10/10 [==============================] - 0s 1ms/step - loss: 3.3324 - accuracy: 0.1433\n",
            "Epoch 29/100\n",
            "10/10 [==============================] - 0s 1ms/step - loss: 3.3312 - accuracy: 0.1300\n",
            "Epoch 30/100\n",
            "10/10 [==============================] - 0s 1ms/step - loss: 3.3304 - accuracy: 0.1200\n",
            "Epoch 31/100\n",
            "10/10 [==============================] - 0s 1ms/step - loss: 3.3291 - accuracy: 0.1133\n",
            "Epoch 32/100\n",
            "10/10 [==============================] - 0s 2ms/step - loss: 3.3281 - accuracy: 0.1133\n",
            "Epoch 33/100\n",
            "10/10 [==============================] - 0s 2ms/step - loss: 3.3271 - accuracy: 0.1133\n",
            "Epoch 34/100\n",
            "10/10 [==============================] - 0s 2ms/step - loss: 3.3262 - accuracy: 0.1100\n",
            "Epoch 35/100\n",
            "10/10 [==============================] - 0s 2ms/step - loss: 3.3252 - accuracy: 0.1133\n",
            "Epoch 36/100\n",
            "10/10 [==============================] - 0s 2ms/step - loss: 3.3242 - accuracy: 0.1133\n",
            "Epoch 37/100\n",
            "10/10 [==============================] - 0s 1ms/step - loss: 3.3232 - accuracy: 0.1133\n",
            "Epoch 38/100\n",
            "10/10 [==============================] - 0s 2ms/step - loss: 3.3223 - accuracy: 0.1100\n",
            "Epoch 39/100\n",
            "10/10 [==============================] - 0s 2ms/step - loss: 3.3213 - accuracy: 0.1100\n",
            "Epoch 40/100\n",
            "10/10 [==============================] - 0s 1ms/step - loss: 3.3203 - accuracy: 0.1067\n",
            "Epoch 41/100\n",
            "10/10 [==============================] - 0s 1ms/step - loss: 3.3192 - accuracy: 0.1000\n",
            "Epoch 42/100\n",
            "10/10 [==============================] - 0s 1ms/step - loss: 3.3183 - accuracy: 0.0967\n",
            "Epoch 43/100\n",
            "10/10 [==============================] - 0s 2ms/step - loss: 3.3175 - accuracy: 0.0967\n",
            "Epoch 44/100\n",
            "10/10 [==============================] - 0s 2ms/step - loss: 3.3163 - accuracy: 0.0967\n",
            "Epoch 45/100\n",
            "10/10 [==============================] - 0s 1ms/step - loss: 3.3155 - accuracy: 0.0967\n",
            "Epoch 46/100\n",
            "10/10 [==============================] - 0s 2ms/step - loss: 3.3143 - accuracy: 0.0967\n",
            "Epoch 47/100\n",
            "10/10 [==============================] - 0s 1ms/step - loss: 3.3134 - accuracy: 0.0967\n",
            "Epoch 48/100\n",
            "10/10 [==============================] - 0s 2ms/step - loss: 3.3123 - accuracy: 0.1000\n",
            "Epoch 49/100\n",
            "10/10 [==============================] - 0s 1ms/step - loss: 3.3111 - accuracy: 0.1267\n",
            "Epoch 50/100\n",
            "10/10 [==============================] - 0s 1ms/step - loss: 3.3097 - accuracy: 0.1333\n",
            "Epoch 51/100\n",
            "10/10 [==============================] - 0s 2ms/step - loss: 3.3078 - accuracy: 0.1267\n",
            "Epoch 52/100\n",
            "10/10 [==============================] - 0s 2ms/step - loss: 3.3061 - accuracy: 0.0933\n",
            "Epoch 53/100\n",
            "10/10 [==============================] - 0s 1ms/step - loss: 3.3043 - accuracy: 0.0833\n",
            "Epoch 54/100\n",
            "10/10 [==============================] - 0s 2ms/step - loss: 3.3025 - accuracy: 0.0667\n",
            "Epoch 55/100\n",
            "10/10 [==============================] - 0s 1ms/step - loss: 3.3008 - accuracy: 0.0567\n",
            "Epoch 56/100\n",
            "10/10 [==============================] - 0s 1ms/step - loss: 3.2994 - accuracy: 0.0567\n",
            "Epoch 57/100\n",
            "10/10 [==============================] - 0s 1ms/step - loss: 3.2974 - accuracy: 0.0433\n",
            "Epoch 58/100\n",
            "10/10 [==============================] - 0s 2ms/step - loss: 3.2957 - accuracy: 0.0467\n",
            "Epoch 59/100\n",
            "10/10 [==============================] - 0s 1ms/step - loss: 3.2935 - accuracy: 0.0600\n",
            "Epoch 60/100\n",
            "10/10 [==============================] - 0s 1ms/step - loss: 3.2917 - accuracy: 0.0533\n",
            "Epoch 61/100\n",
            "10/10 [==============================] - 0s 2ms/step - loss: 3.2899 - accuracy: 0.0433\n",
            "Epoch 62/100\n",
            "10/10 [==============================] - 0s 2ms/step - loss: 3.2879 - accuracy: 0.0500\n",
            "Epoch 63/100\n",
            "10/10 [==============================] - 0s 2ms/step - loss: 3.2859 - accuracy: 0.0500\n",
            "Epoch 64/100\n",
            "10/10 [==============================] - 0s 1ms/step - loss: 3.2838 - accuracy: 0.0500\n",
            "Epoch 65/100\n",
            "10/10 [==============================] - 0s 2ms/step - loss: 3.2823 - accuracy: 0.0600\n",
            "Epoch 66/100\n",
            "10/10 [==============================] - 0s 1ms/step - loss: 3.2798 - accuracy: 0.0533\n",
            "Epoch 67/100\n",
            "10/10 [==============================] - 0s 2ms/step - loss: 3.2777 - accuracy: 0.0533\n",
            "Epoch 68/100\n",
            "10/10 [==============================] - 0s 2ms/step - loss: 3.2758 - accuracy: 0.0633\n",
            "Epoch 69/100\n",
            "10/10 [==============================] - 0s 1ms/step - loss: 3.2735 - accuracy: 0.0500\n",
            "Epoch 70/100\n",
            "10/10 [==============================] - 0s 2ms/step - loss: 3.2712 - accuracy: 0.0600\n",
            "Epoch 71/100\n",
            "10/10 [==============================] - 0s 2ms/step - loss: 3.2693 - accuracy: 0.0633\n",
            "Epoch 72/100\n",
            "10/10 [==============================] - 0s 1ms/step - loss: 3.2668 - accuracy: 0.0567\n",
            "Epoch 73/100\n",
            "10/10 [==============================] - 0s 2ms/step - loss: 3.2650 - accuracy: 0.0567\n",
            "Epoch 74/100\n",
            "10/10 [==============================] - 0s 2ms/step - loss: 3.2624 - accuracy: 0.0600\n",
            "Epoch 75/100\n",
            "10/10 [==============================] - 0s 1ms/step - loss: 3.2602 - accuracy: 0.0600\n",
            "Epoch 76/100\n",
            "10/10 [==============================] - 0s 2ms/step - loss: 3.2579 - accuracy: 0.0567\n",
            "Epoch 77/100\n",
            "10/10 [==============================] - 0s 2ms/step - loss: 3.2559 - accuracy: 0.0567\n",
            "Epoch 78/100\n",
            "10/10 [==============================] - 0s 2ms/step - loss: 3.2536 - accuracy: 0.0600\n",
            "Epoch 79/100\n",
            "10/10 [==============================] - 0s 1ms/step - loss: 3.2509 - accuracy: 0.0567\n",
            "Epoch 80/100\n",
            "10/10 [==============================] - 0s 2ms/step - loss: 3.2488 - accuracy: 0.0600\n",
            "Epoch 81/100\n",
            "10/10 [==============================] - 0s 2ms/step - loss: 3.2472 - accuracy: 0.0633\n",
            "Epoch 82/100\n",
            "10/10 [==============================] - 0s 2ms/step - loss: 3.2451 - accuracy: 0.0533\n",
            "Epoch 83/100\n",
            "10/10 [==============================] - 0s 2ms/step - loss: 3.2418 - accuracy: 0.0500\n",
            "Epoch 84/100\n",
            "10/10 [==============================] - 0s 2ms/step - loss: 3.2396 - accuracy: 0.0600\n",
            "Epoch 85/100\n",
            "10/10 [==============================] - 0s 1ms/step - loss: 3.2373 - accuracy: 0.0567\n",
            "Epoch 86/100\n",
            "10/10 [==============================] - 0s 1ms/step - loss: 3.2350 - accuracy: 0.0600\n",
            "Epoch 87/100\n",
            "10/10 [==============================] - 0s 2ms/step - loss: 3.2328 - accuracy: 0.0733\n",
            "Epoch 88/100\n",
            "10/10 [==============================] - 0s 1ms/step - loss: 3.2304 - accuracy: 0.0700\n",
            "Epoch 89/100\n",
            "10/10 [==============================] - 0s 2ms/step - loss: 3.2281 - accuracy: 0.0600\n",
            "Epoch 90/100\n",
            "10/10 [==============================] - 0s 2ms/step - loss: 3.2259 - accuracy: 0.0600\n",
            "Epoch 91/100\n",
            "10/10 [==============================] - 0s 2ms/step - loss: 3.2240 - accuracy: 0.0633\n",
            "Epoch 92/100\n",
            "10/10 [==============================] - 0s 1ms/step - loss: 3.2217 - accuracy: 0.0700\n",
            "Epoch 93/100\n",
            "10/10 [==============================] - 0s 2ms/step - loss: 3.2191 - accuracy: 0.0700\n",
            "Epoch 94/100\n",
            "10/10 [==============================] - 0s 2ms/step - loss: 3.2165 - accuracy: 0.0600\n",
            "Epoch 95/100\n",
            "10/10 [==============================] - 0s 1ms/step - loss: 3.2146 - accuracy: 0.0633\n",
            "Epoch 96/100\n",
            "10/10 [==============================] - 0s 2ms/step - loss: 3.2122 - accuracy: 0.0667\n",
            "Epoch 97/100\n",
            "10/10 [==============================] - 0s 2ms/step - loss: 3.2099 - accuracy: 0.0700\n",
            "Epoch 98/100\n",
            "10/10 [==============================] - 0s 2ms/step - loss: 3.2076 - accuracy: 0.0700\n",
            "Epoch 99/100\n",
            "10/10 [==============================] - 0s 2ms/step - loss: 3.2049 - accuracy: 0.0667\n",
            "Epoch 100/100\n",
            "10/10 [==============================] - 0s 2ms/step - loss: 3.2031 - accuracy: 0.0600\n"
          ],
          "name": "stdout"
        }
      ]
    },
    {
      "cell_type": "code",
      "metadata": {
        "deletable": false,
        "editable": false,
        "nbgrader": {
          "cell_type": "code",
          "checksum": "4a5f575f46f151f97f1cebc19a484bae",
          "grade": true,
          "grade_id": "cell-770612ca24334d8a",
          "locked": true,
          "points": 1,
          "schema_version": 3,
          "solution": false,
          "task": false
        },
        "colab": {
          "base_uri": "https://localhost:8080/",
          "height": 198
        },
        "id": "gBBQO-CpTGiD",
        "outputId": "c5e5f6ac-0dbc-4f02-e1bf-4e7978d98738"
      },
      "source": [
        "# Visible test\n",
        "assert len(model2.get_config()[\"layers\"]) == 4, \"You should have 4 layers: Input, hidden 1, hidden 2, output.\"\n",
        "assert 5 <= model2.get_config()[\"layers\"][1][\"config\"][\"units\"] <= 32, \"You should have 5 - 32 units in hidden layer 1, but don't.\"\n",
        "assert 5 <= model2.get_config()[\"layers\"][2][\"config\"][\"units\"] <= 32, \"You should have 5 - 32 units in hidden layer 2, but don't.\"\n",
        "assert h2.params[\"epochs\"] == 100, \"You didn't set epochs to 100.\""
      ],
      "execution_count": 57,
      "outputs": [
        {
          "output_type": "error",
          "ename": "NameError",
          "evalue": "ignored",
          "traceback": [
            "\u001b[0;31m---------------------------------------------------------------------------\u001b[0m",
            "\u001b[0;31mNameError\u001b[0m                                 Traceback (most recent call last)",
            "\u001b[0;32m<ipython-input-57-769a996437d0>\u001b[0m in \u001b[0;36m<module>\u001b[0;34m()\u001b[0m\n\u001b[1;32m      3\u001b[0m \u001b[0;32massert\u001b[0m \u001b[0;36m5\u001b[0m \u001b[0;34m<=\u001b[0m \u001b[0mmodel2\u001b[0m\u001b[0;34m.\u001b[0m\u001b[0mget_config\u001b[0m\u001b[0;34m(\u001b[0m\u001b[0;34m)\u001b[0m\u001b[0;34m[\u001b[0m\u001b[0;34m\"layers\"\u001b[0m\u001b[0;34m]\u001b[0m\u001b[0;34m[\u001b[0m\u001b[0;36m1\u001b[0m\u001b[0;34m]\u001b[0m\u001b[0;34m[\u001b[0m\u001b[0;34m\"config\"\u001b[0m\u001b[0;34m]\u001b[0m\u001b[0;34m[\u001b[0m\u001b[0;34m\"units\"\u001b[0m\u001b[0;34m]\u001b[0m \u001b[0;34m<=\u001b[0m \u001b[0;36m32\u001b[0m\u001b[0;34m,\u001b[0m \u001b[0;34m\"You should have 5 - 32 units in hidden layer 1, but don't.\"\u001b[0m\u001b[0;34m\u001b[0m\u001b[0;34m\u001b[0m\u001b[0m\n\u001b[1;32m      4\u001b[0m \u001b[0;32massert\u001b[0m \u001b[0;36m5\u001b[0m \u001b[0;34m<=\u001b[0m \u001b[0mmodel2\u001b[0m\u001b[0;34m.\u001b[0m\u001b[0mget_config\u001b[0m\u001b[0;34m(\u001b[0m\u001b[0;34m)\u001b[0m\u001b[0;34m[\u001b[0m\u001b[0;34m\"layers\"\u001b[0m\u001b[0;34m]\u001b[0m\u001b[0;34m[\u001b[0m\u001b[0;36m2\u001b[0m\u001b[0;34m]\u001b[0m\u001b[0;34m[\u001b[0m\u001b[0;34m\"config\"\u001b[0m\u001b[0;34m]\u001b[0m\u001b[0;34m[\u001b[0m\u001b[0;34m\"units\"\u001b[0m\u001b[0;34m]\u001b[0m \u001b[0;34m<=\u001b[0m \u001b[0;36m32\u001b[0m\u001b[0;34m,\u001b[0m \u001b[0;34m\"You should have 5 - 32 units in hidden layer 2, but don't.\"\u001b[0m\u001b[0;34m\u001b[0m\u001b[0;34m\u001b[0m\u001b[0m\n\u001b[0;32m----> 5\u001b[0;31m \u001b[0;32massert\u001b[0m \u001b[0mh2\u001b[0m\u001b[0;34m.\u001b[0m\u001b[0mparams\u001b[0m\u001b[0;34m[\u001b[0m\u001b[0;34m\"epochs\"\u001b[0m\u001b[0;34m]\u001b[0m \u001b[0;34m==\u001b[0m \u001b[0;36m100\u001b[0m\u001b[0;34m,\u001b[0m \u001b[0;34m\"You didn't set epochs to 100.\"\u001b[0m\u001b[0;34m\u001b[0m\u001b[0;34m\u001b[0m\u001b[0m\n\u001b[0m",
            "\u001b[0;31mNameError\u001b[0m: name 'h2' is not defined"
          ]
        }
      ]
    },
    {
      "cell_type": "code",
      "metadata": {
        "colab": {
          "base_uri": "https://localhost:8080/",
          "height": 164
        },
        "id": "ZPZNk-W-iNk3",
        "outputId": "ed567c88-ecc4-4399-98ae-289a568ee749"
      },
      "source": [
        ""
      ],
      "execution_count": 59,
      "outputs": [
        {
          "output_type": "error",
          "ename": "AttributeError",
          "evalue": "ignored",
          "traceback": [
            "\u001b[0;31m---------------------------------------------------------------------------\u001b[0m",
            "\u001b[0;31mAttributeError\u001b[0m                            Traceback (most recent call last)",
            "\u001b[0;32m<ipython-input-59-e1b816fd35ad>\u001b[0m in \u001b[0;36m<module>\u001b[0;34m()\u001b[0m\n\u001b[0;32m----> 1\u001b[0;31m \u001b[0mmodel1\u001b[0m\u001b[0;34m.\u001b[0m\u001b[0mparams\u001b[0m\u001b[0;34m[\u001b[0m\u001b[0;34m\"epochs\"\u001b[0m\u001b[0;34m]\u001b[0m\u001b[0;34m\u001b[0m\u001b[0;34m\u001b[0m\u001b[0m\n\u001b[0m",
            "\u001b[0;31mAttributeError\u001b[0m: 'Sequential' object has no attribute 'params'"
          ]
        }
      ]
    },
    {
      "cell_type": "code",
      "metadata": {
        "deletable": false,
        "editable": false,
        "nbgrader": {
          "cell_type": "code",
          "checksum": "3ca73d4d3d17897a570e19a8a97c050f",
          "grade": true,
          "grade_id": "cell-49b1bf7cce22b5b9",
          "locked": true,
          "points": 1,
          "schema_version": 3,
          "solution": false,
          "task": false
        },
        "id": "ZG3br3T5TGiE"
      },
      "source": [
        "# Hidden tests - you will see the results when you submit to Canvas"
      ],
      "execution_count": null,
      "outputs": []
    },
    {
      "cell_type": "markdown",
      "metadata": {
        "id": "6wcTqRFtTGiE"
      },
      "source": [
        "### Analyze and Compare\n",
        "\n",
        "**Before you Start**: You will need to install an additional library for this next segment. \n",
        "\n",
        "Install the package `mlxtend` into the environment you are using for the sprint challenge.\n",
        "\n",
        "You can install this package using the following statement in the terminal\n",
        "\n",
        "```python\n",
        "pip install mlxtend\n",
        "```\n",
        "\n",
        "Or you can install this package using the following statement in your notebook\n",
        "\n",
        "```python\n",
        "!pip install mlxtend\n",
        "```\n",
        "\n",
        "If you choose to install this package from within your notebook, be sure to delete the install statement afterwards so that CodeGrade doesn't try to install it and potentially crash. \n",
        "\n",
        "\n",
        "The cells below generate decision boundary plots of your models (`model1` & `model2`). Review the plots."
      ]
    },
    {
      "cell_type": "code",
      "metadata": {
        "id": "VWLKH6gPTGiE"
      },
      "source": [
        "X.shape, y.shape"
      ],
      "execution_count": null,
      "outputs": []
    },
    {
      "cell_type": "code",
      "metadata": {
        "id": "SP8RuzeaTGiE"
      },
      "source": [
        "import matplotlib.pyplot as plt\n",
        "from mlxtend.plotting import plot_decision_regions\n",
        "\n",
        "\n",
        "fig = plt.figure(figsize=(12,6))\n",
        "\n",
        "for clf, hist, name, grd in zip([model1,model2], [h1, h2],['Perceptron', 'Multi-Layer Perceptron'],[1,2]):\n",
        "\n",
        "    ax = plt.subplot(1,2, grd)\n",
        "    fig = plot_decision_regions(X=X, y=y, clf=clf, legend=2)\n",
        "    title = f\"{name} with {hist.history['accuracy'][-1]:,.2f} Accuracy\"\n",
        "    plt.title(title)\n",
        "\n",
        "plt.show()"
      ],
      "execution_count": null,
      "outputs": []
    },
    {
      "cell_type": "markdown",
      "metadata": {
        "deletable": false,
        "editable": false,
        "nbgrader": {
          "cell_type": "markdown",
          "checksum": "40c30e638b6defe125180b9832a675e2",
          "grade": false,
          "grade_id": "cell-b1bde9222e35b3fc",
          "locked": true,
          "points": 0,
          "schema_version": 3,
          "solution": false,
          "task": true
        },
        "id": "E_lsBfwnTGiF"
      },
      "source": [
        "1) Why does the Perceptron (`model1`) only achieve about 50% accuracy? \n",
        "\n",
        "2) What is the architectural property of the Multi-Layer Perceptron that allows it to more accurately learn the relationship between X and y? \n",
        "- Hint: recall that each layer represents a vector space and they usually have a different number of dimensions, $\\mathbb{R}^N$.\n",
        "   "
      ]
    },
    {
      "cell_type": "markdown",
      "metadata": {
        "deletable": false,
        "nbgrader": {
          "cell_type": "markdown",
          "checksum": "e01b50ff508342b905c5a4cdbd7d2dc4",
          "grade": true,
          "grade_id": "cell-302694c508c8da0e",
          "locked": false,
          "points": 0,
          "schema_version": 3,
          "solution": true,
          "task": false
        },
        "id": "ldEXhR6ZTGiF"
      },
      "source": [
        "YOUR ANSWER HERE"
      ]
    },
    {
      "cell_type": "markdown",
      "metadata": {
        "id": "-N3aGa6PTGiF"
      },
      "source": [
        "## 3. Keras MMP <a id=\"Q3\"></a>\n",
        "\n",
        "- Implement a Multilayer Perceptron architecture of your choosing using the Keras library. \n",
        "- Train your model and report its baseline accuracy. \n",
        "- Then `hyper-parameters tune two parameters each with no more than 2 values each`\n",
        "    - Due to limited computational resources on CodeGrade `DO NOT INCLUDE ADDITIONAL PARAMETERS OR VALUES PLEASE`\n",
        "- Report your optimized model's accuracy\n",
        "- Use the Heart Disease Dataset provided (binary classification)\n",
        "- Use an appropriate loss function for a binary classification task\n",
        "- Use an appropriate activation function on the final layer of your network.\n",
        "- Train your model using verbose output for ease of grading.\n",
        "- Use GridSearchCV to hyper-parameters tune your model. \n",
        "    - **Use `n_jobs` = 1**\n",
        "- When hyper-parameters tuning, show you work by adding code cells for each new experiment.\n",
        "- Report the accuracy for each combination of hyper-parameters as you test them so that we can easily see which resulted in the highest accuracy."
      ]
    },
    {
      "cell_type": "code",
      "metadata": {
        "inputHidden": false,
        "jupyter": {
          "outputs_hidden": false
        },
        "outputHidden": false,
        "id": "HdSyL-KjTGiG"
      },
      "source": [
        "import pandas as pd\n",
        "from sklearn.preprocessing import StandardScaler\n",
        "\n",
        "# load data\n",
        "data_path = 'https://raw.githubusercontent.com/ryanleeallred/datasets/master/heart.csv'\n",
        "df = pd.read_csv(data_path)\n",
        "df = df.sample(frac=1)\n",
        "print(df.shape)\n",
        "df.head()"
      ],
      "execution_count": null,
      "outputs": []
    },
    {
      "cell_type": "code",
      "metadata": {
        "deletable": false,
        "nbgrader": {
          "cell_type": "code",
          "checksum": "22de1dc5d17d7a0bc674d082c33e8b65",
          "grade": false,
          "grade_id": "cell-85dc40f19f5a1d6b",
          "locked": false,
          "schema_version": 3,
          "solution": true,
          "task": false
        },
        "id": "QulLKHxiTGiG"
      },
      "source": [
        "# Create an input matrix named 'X' store it in a 2D numpy array\n",
        "\n",
        "# Create an output vector for the labels named 'Y', store it in 1D numpy array\n",
        "\n",
        "# YOUR CODE HERE\n",
        "raise NotImplementedError()"
      ],
      "execution_count": null,
      "outputs": []
    },
    {
      "cell_type": "code",
      "metadata": {
        "id": "O595BPdHTGiG"
      },
      "source": [
        "X.shape"
      ],
      "execution_count": null,
      "outputs": []
    },
    {
      "cell_type": "code",
      "metadata": {
        "deletable": false,
        "editable": false,
        "nbgrader": {
          "cell_type": "code",
          "checksum": "825d4f808810a2a8d6301d7453afe478",
          "grade": true,
          "grade_id": "cell-c17c686c974edc2e",
          "locked": true,
          "points": 1,
          "schema_version": 3,
          "solution": false,
          "task": false
        },
        "id": "LD34u6fyTGiH"
      },
      "source": [
        "# Visible Testing\n",
        "assert X.shape[0] == 303, \"Did you drop/lose some rows in X? Did you properly load and split the data?\"\n",
        "assert X.shape[1] == 13, \"Did you drop/lose some columns in X? Did you properly load and split the data?\"\n",
        "assert len(Y)== 303, \"Did you drop/lose some rows in Y? Did you properly load and split the data?\""
      ],
      "execution_count": null,
      "outputs": []
    },
    {
      "cell_type": "code",
      "metadata": {
        "id": "77_r04faTGiH"
      },
      "source": [
        "import tensorflow.keras\n",
        "from tensorflow.keras.models import Sequential\n",
        "from tensorflow.keras.layers import Dense\n",
        "from sklearn.model_selection import GridSearchCV\n",
        "from tensorflow.keras.wrappers.scikit_learn import KerasClassifier"
      ],
      "execution_count": null,
      "outputs": []
    },
    {
      "cell_type": "code",
      "metadata": {
        "deletable": false,
        "nbgrader": {
          "cell_type": "code",
          "checksum": "475835631ff6a34028443dbf604bd922",
          "grade": false,
          "grade_id": "cell-cfc5517cd0b6fa64",
          "locked": false,
          "schema_version": 3,
          "solution": true,
          "task": false
        },
        "id": "aKTlXiI9TGiH"
      },
      "source": [
        "# Create a function named 'create_model' that returns a complied keras model -  required for KerasClassifier\n",
        "# YOUR CODE HERE\n",
        "raise NotImplementedError()"
      ],
      "execution_count": null,
      "outputs": []
    },
    {
      "cell_type": "code",
      "metadata": {
        "deletable": false,
        "editable": false,
        "nbgrader": {
          "cell_type": "code",
          "checksum": "7b906697afb0a3b52cd19e9548eae6a7",
          "grade": true,
          "grade_id": "cell-fac25126eaf1eee4",
          "locked": true,
          "points": 1,
          "schema_version": 3,
          "solution": false,
          "task": false
        },
        "id": "9b9Va0T-TGiH"
      },
      "source": [
        "# Visible Testing\n",
        "assert create_model().__module__ == 'tensorflow.python.keras.engine.sequential', \"create_model should return a keras model that was created using the Sequential class.\""
      ],
      "execution_count": null,
      "outputs": []
    },
    {
      "cell_type": "code",
      "metadata": {
        "deletable": false,
        "nbgrader": {
          "cell_type": "code",
          "checksum": "0412c74b7803790452d4914d99995dd2",
          "grade": false,
          "grade_id": "cell-fbc3d0a07230078c",
          "locked": false,
          "schema_version": 3,
          "solution": true,
          "task": false
        },
        "id": "J72EdLkLTGiH"
      },
      "source": [
        "# Pass 'create_model' into KerasClassifier, store KerasClassifier to a variable named 'model'\n",
        "# YOUR CODE HERE\n",
        "raise NotImplementedError()"
      ],
      "execution_count": null,
      "outputs": []
    },
    {
      "cell_type": "code",
      "metadata": {
        "deletable": false,
        "editable": false,
        "nbgrader": {
          "cell_type": "code",
          "checksum": "0442c29a94065e922c5ae929976a52ab",
          "grade": true,
          "grade_id": "cell-464e7506993775f2",
          "locked": true,
          "points": 1,
          "schema_version": 3,
          "solution": false,
          "task": false
        },
        "id": "vm5ZCtSJTGiI"
      },
      "source": [
        "# Visible Testing\n",
        "assert model.__module__ == 'tensorflow.python.keras.wrappers.scikit_learn', \"model should be a instance of KerasClassifier.\""
      ],
      "execution_count": null,
      "outputs": []
    },
    {
      "cell_type": "code",
      "metadata": {
        "deletable": false,
        "nbgrader": {
          "cell_type": "code",
          "checksum": "f88603ef37a4d3d2ef8699a41ac9a0b2",
          "grade": false,
          "grade_id": "cell-985c0425f3b1304d",
          "locked": false,
          "schema_version": 3,
          "solution": true,
          "task": false
        },
        "id": "JTvih7KUTGiI"
      },
      "source": [
        "# Define the grid search parameters inside a dictionary named 'param_grid' \n",
        "# Use 2 hyper-parameters with 2 possible values for each \n",
        "\n",
        "# YOUR CODE HERE\n",
        "raise NotImplementedError()"
      ],
      "execution_count": null,
      "outputs": []
    },
    {
      "cell_type": "code",
      "metadata": {
        "deletable": false,
        "editable": false,
        "nbgrader": {
          "cell_type": "code",
          "checksum": "a551fd8278b30c1318c036f6ad43b503",
          "grade": true,
          "grade_id": "cell-c765b5db5489d7a2",
          "locked": true,
          "points": 1,
          "schema_version": 3,
          "solution": false,
          "task": false
        },
        "id": "6snV8sInTGiI"
      },
      "source": [
        "assert len(param_grid.keys()) == 2, \"Did you create a param dict with 2 hyper-parameters as keys?\""
      ],
      "execution_count": null,
      "outputs": []
    },
    {
      "cell_type": "code",
      "metadata": {
        "deletable": false,
        "nbgrader": {
          "cell_type": "code",
          "checksum": "2ea6312f4bc1f42809196b696037dd52",
          "grade": false,
          "grade_id": "cell-7cfb4315eab5031c",
          "locked": false,
          "schema_version": 3,
          "solution": true,
          "task": false
        },
        "id": "NOGNHnhsTGiI"
      },
      "source": [
        "# Create Grid Search object and name it 'gs'\n",
        "# Run Grid Search \n",
        "# YOUR CODE HERE\n",
        "raise NotImplementedError()"
      ],
      "execution_count": null,
      "outputs": []
    },
    {
      "cell_type": "code",
      "metadata": {
        "id": "UGNjhBSJTGiI"
      },
      "source": [
        "# your grid_result object should be able to run in this code \n",
        "print(f\"Best: {grid_result.best_score_} using {grid_result.best_params_}\")\n",
        "means = grid_result.cv_results_['mean_test_score']\n",
        "stds = grid_result.cv_results_['std_test_score']\n",
        "params = grid_result.cv_results_['params']\n",
        "for mean, stdev, param in zip(means, stds, params):\n",
        "    print(f\"Means: {mean}, Stdev: {stdev} with: {param}\") "
      ],
      "execution_count": null,
      "outputs": []
    },
    {
      "cell_type": "code",
      "metadata": {
        "id": "CPBovSeLTGiI"
      },
      "source": [
        ""
      ],
      "execution_count": null,
      "outputs": []
    }
  ]
}