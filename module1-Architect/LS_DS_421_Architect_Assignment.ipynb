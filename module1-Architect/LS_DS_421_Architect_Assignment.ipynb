{
  "nbformat": 4,
  "nbformat_minor": 0,
  "metadata": {
    "accelerator": "GPU",
    "colab": {
      "name": "LS_DS_432_TensorFlow_Assignment",
      "provenance": [],
      "collapsed_sections": [],
      "toc_visible": true
    },
    "kernelspec": {
      "display_name": "Python 3",
      "language": "python",
      "name": "python3"
    },
    "language_info": {
      "codemirror_mode": {
        "name": "ipython",
        "version": 3
      },
      "file_extension": ".py",
      "mimetype": "text/x-python",
      "name": "python",
      "nbconvert_exporter": "python",
      "pygments_lexer": "ipython3",
      "version": "3.8.5"
    }
  },
  "cells": [
    {
      "cell_type": "markdown",
      "metadata": {
        "id": "ObyHCH8HvHSf"
      },
      "source": [
        "\n",
        "# *Data Science Unit 4 Sprint 2 Assignment 1*\n",
        "\n",
        "Use TensorFlow Keras & a sample of the [Quickdraw dataset](https://github.com/googlecreativelab/quickdraw-dataset) to build a sketch classification model. The dataset has been sampled to only 10 classes and 10000 observations per class. \n",
        "\n",
        "### Objective\n",
        "\n",
        "- Build a baseline classification model then run a few experiments with different optimizers and learning rates. \n",
        "- Don't forgot to [**switch to GPU on if you're running your notebook on Colab!**](https://colab.research.google.com/notebooks/gpu.ipynb)"
      ]
    },
    {
      "cell_type": "markdown",
      "metadata": {
        "id": "s-Tc3ovEyQ9b"
      },
      "source": [
        "## Load Your Data"
      ]
    },
    {
      "cell_type": "code",
      "metadata": {
        "id": "CkU0pAYCvU8o"
      },
      "source": [
        "# imports in first cell \n",
        "import seaborn as sns\n",
        "import pandas as pd\n",
        "import numpy as np\n",
        "import tensorflow as tf \n",
        "import matplotlib.pyplot as plt\n",
        "from sklearn.utils import shuffle\n",
        "\n",
        "# use Sequential to build out your model\n",
        "from tensorflow.keras.models import Sequential\n",
        "model = Sequential()\n",
        "\n",
        "# Dense layer is used for Fully Connected Forward Feeding networks\n",
        "from tensorflow.keras.layers import Dense\n",
        "model.add(Dense(784,input_dim=2, activation='sigmoid'))"
      ],
      "execution_count": 50,
      "outputs": []
    },
    {
      "cell_type": "code",
      "metadata": {
        "colab": {
          "base_uri": "https://localhost:8080/"
        },
        "id": "tp6omy9Fo8kr",
        "outputId": "94d56449-f1b5-4526-9ad9-fe13d319882f"
      },
      "source": [
        "# load in data set\n",
        "data = np.load('/content/sample_data/quickdraw10.npz')\n",
        "X = data['arr_0']\n",
        "y = data['arr_1']\n",
        "\n",
        "\n",
        "print(X.shape)\n",
        "print(y.shape)"
      ],
      "execution_count": 78,
      "outputs": [
        {
          "output_type": "stream",
          "text": [
            "(100000, 784)\n",
            "(100000,)\n"
          ],
          "name": "stdout"
        }
      ]
    },
    {
      "cell_type": "code",
      "metadata": {
        "id": "c8qsDqdqvHDd"
      },
      "source": [
        "class_names = ['apple',\n",
        "             'anvil',\n",
        "             'airplane',\n",
        "             'banana',\n",
        "             'The Eiffel Tower',\n",
        "             'The Mona Lisa',\n",
        "             'The Great Wall of China',\n",
        "             'alarm clock',\n",
        "             'ant',\n",
        "             'asparagus']"
      ],
      "execution_count": 79,
      "outputs": []
    },
    {
      "cell_type": "code",
      "metadata": {
        "colab": {
          "base_uri": "https://localhost:8080/",
          "height": 289
        },
        "id": "Owbm1EbxvA5A",
        "outputId": "24d0fe57-251e-465f-b167-845cc57fe356"
      },
      "source": [
        "# these are your 10 unique images\n",
        "plt.figure(figsize=(10,5))\n",
        "start = 0\n",
        "\n",
        "for num, name in enumerate(class_names):\n",
        "    plt.subplot(2,5, num+1)\n",
        "    plt.xticks([])\n",
        "    plt.yticks([])\n",
        "    plt.grid(False)\n",
        "    plt.imshow(X[start].reshape(28,28), cmap=plt.cm.binary)\n",
        "    plt.xlabel(name)\n",
        "    start += 10000\n",
        "plt.show()"
      ],
      "execution_count": 80,
      "outputs": [
        {
          "output_type": "display_data",
          "data": {
            "image/png": "[encoded data removed]",
            "text/plain": [
              "<Figure size 720x360 with 10 Axes>"
            ]
          },
          "metadata": {
            "tags": []
          }
        }
      ]
    },
    {
      "cell_type": "markdown",
      "metadata": {
        "id": "xrVasRCgo8ks"
      },
      "source": [
        "Say hello to the Quickdraw dataset. \n",
        "\n",
        "You'll be using this dataset a lot this week as an alternative to the mnist which we'll be using in the guided projects. The nice thing about this dataset is that it's simple, which allows us to focus on our model, it's various components, and gradually coming to a better understand of how to build neural networks without worrying about cleaning and preping our image data too much. "
      ]
    },
    {
      "cell_type": "code",
      "metadata": {
        "id": "c97_M1WNvTNY"
      },
      "source": [
        "# always a good idea to shuffle your dataset \n",
        "X, y = shuffle(X, y)"
      ],
      "execution_count": 81,
      "outputs": []
    },
    {
      "cell_type": "markdown",
      "metadata": {
        "id": "jb70CbLVyK65"
      },
      "source": [
        "-----\n",
        "\n",
        "## Build Your Baseline Model\n",
        "\n",
        "Make sure that you\n",
        "\n",
        "- **Determine** the dimensionality of your input data by investigating **X**\n",
        "- **Normalize** your input data to values between 0 and 1 \n",
        "- **Determine** the number of neurons in your output layer by investigating **Y**\n",
        "- **Select** `sparse_categorical_crossentropy` as your loss function.\n",
        "- **Select** `sgd` as your optimizer.\n",
        "- **Add** 3 hidden layers to your model with the following number of nodes\n",
        "    - h1 has 500 nodes\n",
        "    - h2 has 250 nodes\n",
        "    - h3 has 100 nodes\n",
        "    \n",
        "- **Set** epochs to 20 \n",
        "- **Use** the `validation_split` command to automatically create a training / validation dataset from within the model, so you don't have to do it yourself.\n",
        "    -  Specify a percentage such as .2 in your fit statement.\n",
        " \n",
        " \n",
        "Not sure what the various parameters are for or what what values to assign to them?\n",
        "\n",
        "- Reference the guided project notebook for Sprint 2 Module 1\n",
        "- Reference the [**Keras documentation**](https://keras.io/api/)\n",
        "- Google other examples\n",
        "- Discuss your results with classmates "
      ]
    },
    {
      "cell_type": "code",
      "metadata": {
        "id": "LNHOcCQLFcYY"
      },
      "source": [
        "from tensorflow import keras\n",
        "from tensorflow.keras.datasets import mnist\n",
        "from tensorflow.keras.models import Sequential\n",
        "from tensorflow.keras.layers import Dense\n",
        "import tensorflow_datasets as tfds\n",
        "\n",
        "import numpy as np"
      ],
      "execution_count": 62,
      "outputs": []
    },
    {
      "cell_type": "code",
      "metadata": {
        "id": "uFMfqdZSIYXn",
        "outputId": "847e4106-0a51-4c1f-8cde-3374ea585a2b",
        "colab": {
          "base_uri": "https://localhost:8080/"
        }
      },
      "source": [
        "data"
      ],
      "execution_count": 65,
      "outputs": [
        {
          "output_type": "execute_result",
          "data": {
            "text/plain": [
              "<numpy.lib.npyio.NpzFile at 0x7fccc4f8a790>"
            ]
          },
          "metadata": {
            "tags": []
          },
          "execution_count": 65
        }
      ]
    },
    {
      "cell_type": "code",
      "metadata": {
        "deletable": false,
        "nbgrader": {
          "cell_type": "code",
          "checksum": "ef20dd34df6998e0a50e394d59d58659",
          "grade": false,
          "grade_id": "cell-907b9348d7a2ebb3",
          "locked": false,
          "schema_version": 3,
          "solution": true,
          "task": false
        },
        "id": "5knMptI9o8kt"
      },
      "source": [
        "# get dim of image row vectors and save to imput_dim\n",
        "dim = X.shape[1]\n",
        "\n",
        "# get number of unique labels and save to n_output_nodels\n",
        "n_output_nodels = np.unique(y)\n",
        "\n",
        "# normalize image data to values between 0 and 1 (by dividing by max pixel value)\n",
        "max_value = 255\n",
        "X = X.astype('float32') / max_value\n",
        "\n",
        "# Set epochs\n",
        "epochs = 20\n",
        "\n",
        "# YOUR CODE HERE\n"
      ],
      "execution_count": 97,
      "outputs": []
    },
    {
      "cell_type": "code",
      "metadata": {
        "id": "rhin6CDLo8ku"
      },
      "source": [
        "# a check on your data prep \n",
        "X_scaled = X\n",
        "assert  X_scaled.max(), \"Max pixel value should be 1.0, make sure you normalize your data\""
      ],
      "execution_count": 98,
      "outputs": []
    },
    {
      "cell_type": "code",
      "metadata": {
        "deletable": false,
        "id": "zHWblzsMyNkU",
        "nbgrader": {
          "cell_type": "code",
          "checksum": "f0ba174cb72f491f73c3aa7df8ae7ac4",
          "grade": false,
          "grade_id": "cell-b7c96fc46d86725f",
          "locked": false,
          "schema_version": 3,
          "solution": true,
          "task": false
        }
      },
      "source": [
        "# instantiate a sequential object and call it model, then add layers to your model\n",
        "model = Sequential()\n",
        "\n",
        "#Input Layer\n",
        "model.add(Dense(12, input_dim=dim, activation='relu'))\n",
        "\n",
        "# Hidden layers\n",
        "model.add(Dense(500, activation='relu'))\n",
        "model.add(Dense(250, activation='relu'))\n",
        "model.add(Dense(100, activation='relu'))\n",
        "\n",
        "# add a compile layer but don't fit your model yet \n",
        "model.compile(loss='sparse_categorical_crossentropy', optimizer='sgd', metrics=['accuracy'])"
      ],
      "execution_count": 99,
      "outputs": []
    },
    {
      "cell_type": "code",
      "metadata": {
        "id": "J41ZyfpFo8ku"
      },
      "source": [
        "# a check on your model architecture \n",
        "n_layers = len(model.get_config()[\"layers\"])\n",
        "assert n_layers == 5, \"You should have 5 layers: input, h1, h2, h3, and output\""
      ],
      "execution_count": 100,
      "outputs": []
    },
    {
      "cell_type": "code",
      "metadata": {
        "id": "QEBuJDVTo8ku",
        "outputId": "e46c578b-cfc6-4233-dce1-415e2ac38ea9",
        "colab": {
          "base_uri": "https://localhost:8080/"
        }
      },
      "source": [
        "# check out your model summary \n",
        "model.summary()"
      ],
      "execution_count": 101,
      "outputs": [
        {
          "output_type": "stream",
          "text": [
            "Model: \"sequential_15\"\n",
            "_________________________________________________________________\n",
            "Layer (type)                 Output Shape              Param #   \n",
            "=================================================================\n",
            "dense_39 (Dense)             (None, 12)                9420      \n",
            "_________________________________________________________________\n",
            "dense_40 (Dense)             (None, 500)               6500      \n",
            "_________________________________________________________________\n",
            "dense_41 (Dense)             (None, 250)               125250    \n",
            "_________________________________________________________________\n",
            "dense_42 (Dense)             (None, 100)               25100     \n",
            "=================================================================\n",
            "Total params: 166,270\n",
            "Trainable params: 166,270\n",
            "Non-trainable params: 0\n",
            "_________________________________________________________________\n"
          ],
          "name": "stdout"
        }
      ]
    },
    {
      "cell_type": "code",
      "metadata": {
        "colab": {
          "base_uri": "https://localhost:8080/"
        },
        "id": "_nqLjxR4o8ku",
        "outputId": "672a1d74-ab6e-48c1-dd77-8dc42cadeee9"
      },
      "source": [
        "# fit your model and save training resuts to history \n",
        "history = model.fit(X_scaled, y, \n",
        "                    epochs=epochs, \n",
        "                    # test set will be generated within the model\n",
        "                    validation_split=0.2\n",
        "                   )"
      ],
      "execution_count": 102,
      "outputs": [
        {
          "output_type": "stream",
          "text": [
            "Epoch 1/20\n",
            "2500/2500 [==============================] - 7s 3ms/step - loss: 4.6052 - accuracy: 8.1250e-04 - val_loss: 4.6052 - val_accuracy: 9.0000e-04\n",
            "Epoch 2/20\n",
            "2500/2500 [==============================] - 6s 2ms/step - loss: 4.6052 - accuracy: 8.1250e-04 - val_loss: 4.6052 - val_accuracy: 9.0000e-04\n",
            "Epoch 3/20\n",
            "2500/2500 [==============================] - 6s 2ms/step - loss: 4.6052 - accuracy: 8.1250e-04 - val_loss: 4.6052 - val_accuracy: 9.0000e-04\n",
            "Epoch 4/20\n",
            "2500/2500 [==============================] - 6s 2ms/step - loss: 4.6052 - accuracy: 8.1250e-04 - val_loss: 4.6052 - val_accuracy: 9.0000e-04\n",
            "Epoch 5/20\n",
            "2500/2500 [==============================] - 6s 2ms/step - loss: 4.6052 - accuracy: 8.1250e-04 - val_loss: 4.6052 - val_accuracy: 9.0000e-04\n",
            "Epoch 6/20\n",
            "2500/2500 [==============================] - 6s 2ms/step - loss: 4.6052 - accuracy: 8.1250e-04 - val_loss: 4.6052 - val_accuracy: 9.0000e-04\n",
            "Epoch 7/20\n",
            "2500/2500 [==============================] - 6s 3ms/step - loss: 4.6052 - accuracy: 8.1250e-04 - val_loss: 4.6052 - val_accuracy: 9.0000e-04\n",
            "Epoch 8/20\n",
            "2500/2500 [==============================] - 6s 2ms/step - loss: 4.6052 - accuracy: 8.1250e-04 - val_loss: 4.6052 - val_accuracy: 9.0000e-04\n",
            "Epoch 9/20\n",
            "2500/2500 [==============================] - 6s 2ms/step - loss: 4.6052 - accuracy: 8.1250e-04 - val_loss: 4.6052 - val_accuracy: 9.0000e-04\n",
            "Epoch 10/20\n",
            "2500/2500 [==============================] - 6s 2ms/step - loss: 4.6052 - accuracy: 8.1250e-04 - val_loss: 4.6052 - val_accuracy: 9.0000e-04\n",
            "Epoch 11/20\n",
            "2500/2500 [==============================] - 6s 2ms/step - loss: 4.6052 - accuracy: 8.1250e-04 - val_loss: 4.6052 - val_accuracy: 9.0000e-04\n",
            "Epoch 12/20\n",
            "2500/2500 [==============================] - 6s 2ms/step - loss: 4.6052 - accuracy: 8.1250e-04 - val_loss: 4.6052 - val_accuracy: 9.0000e-04\n",
            "Epoch 13/20\n",
            "2500/2500 [==============================] - 6s 2ms/step - loss: 4.6052 - accuracy: 8.1250e-04 - val_loss: 4.6052 - val_accuracy: 9.0000e-04\n",
            "Epoch 14/20\n",
            "2500/2500 [==============================] - 6s 2ms/step - loss: 4.6052 - accuracy: 8.1250e-04 - val_loss: 4.6052 - val_accuracy: 9.0000e-04\n",
            "Epoch 15/20\n",
            "2500/2500 [==============================] - 6s 2ms/step - loss: 4.6052 - accuracy: 8.1250e-04 - val_loss: 4.6052 - val_accuracy: 9.0000e-04\n",
            "Epoch 16/20\n",
            "2500/2500 [==============================] - 6s 2ms/step - loss: 4.6052 - accuracy: 8.1250e-04 - val_loss: 4.6052 - val_accuracy: 9.0000e-04\n",
            "Epoch 17/20\n",
            "2500/2500 [==============================] - 6s 2ms/step - loss: 4.6052 - accuracy: 8.1250e-04 - val_loss: 4.6052 - val_accuracy: 9.0000e-04\n",
            "Epoch 18/20\n",
            "2500/2500 [==============================] - 6s 2ms/step - loss: 4.6052 - accuracy: 8.1250e-04 - val_loss: 4.6052 - val_accuracy: 9.0000e-04\n",
            "Epoch 19/20\n",
            "2500/2500 [==============================] - 6s 2ms/step - loss: 4.6052 - accuracy: 8.1250e-04 - val_loss: 4.6052 - val_accuracy: 9.0000e-04\n",
            "Epoch 20/20\n",
            "2500/2500 [==============================] - 6s 2ms/step - loss: 4.6052 - accuracy: 8.1250e-04 - val_loss: 4.6052 - val_accuracy: 9.0000e-04\n"
          ],
          "name": "stdout"
        }
      ]
    },
    {
      "cell_type": "markdown",
      "metadata": {
        "id": "b0QJURWh-9uv"
      },
      "source": [
        "----\n",
        "### Visualize the results\n",
        "\n",
        "- Move results in `history` in a dataframe \n",
        "- Use [**Seaborn**](https://seaborn.pydata.org/generated/seaborn.lineplot.html) to create lineplots for both loss and accuracy by epoch. \n",
        "- Analyze the results and write a couple of obsverations. \n",
        "\n",
        "At what point should we have stopped training the model and why? "
      ]
    },
    {
      "cell_type": "code",
      "metadata": {
        "colab": {
          "base_uri": "https://localhost:8080/",
          "height": 364
        },
        "deletable": false,
        "id": "ijAlzfYKAFaY",
        "nbgrader": {
          "cell_type": "code",
          "checksum": "6ef8cde40701c2ef57cf853b19455125",
          "grade": false,
          "grade_id": "cell-16e647cfc3291a01",
          "locked": false,
          "schema_version": 3,
          "solution": true,
          "task": false
        },
        "outputId": "f14802ce-d256-4140-e0b6-6cf1c116e71a"
      },
      "source": [
        "# YOUR CODE HERE\n",
        "# Save result into DataFrame\n",
        "df = pd.DataFrame(history.history)\n",
        "\n",
        "import seaborn as sns\n",
        "\n",
        "epochs = [i for i in range(len(history.history['loss']))]\n",
        "sns.lineplot(epochs, history.history['loss'], label=\"train\")\n",
        "sns.lineplot(epochs, history.history['val_loss'], label=\"test\");"
      ],
      "execution_count": 113,
      "outputs": [
        {
          "output_type": "stream",
          "text": [
            "/usr/local/lib/python3.7/dist-packages/seaborn/_decorators.py:43: FutureWarning: Pass the following variables as keyword args: x, y. From version 0.12, the only valid positional argument will be `data`, and passing other arguments without an explicit keyword will result in an error or misinterpretation.\n",
            "  FutureWarning\n",
            "/usr/local/lib/python3.7/dist-packages/seaborn/_decorators.py:43: FutureWarning: Pass the following variables as keyword args: x, y. From version 0.12, the only valid positional argument will be `data`, and passing other arguments without an explicit keyword will result in an error or misinterpretation.\n",
            "  FutureWarning\n"
          ],
          "name": "stderr"
        },
        {
          "output_type": "display_data",
          "data": {
            "image/png": "[encoded data removed]",
            "text/plain": [
              "<Figure size 432x288 with 1 Axes>"
            ]
          },
          "metadata": {
            "tags": [],
            "needs_background": "light"
          }
        }
      ]
    },
    {
      "cell_type": "code",
      "metadata": {
        "id": "DDQBYpO2o8kw"
      },
      "source": [
        "# a check on our model training\n",
        "assert df.shape[0] == 20, \"df should have the training results from 20 epochs\""
      ],
      "execution_count": 114,
      "outputs": []
    },
    {
      "cell_type": "code",
      "metadata": {
        "colab": {
          "base_uri": "https://localhost:8080/",
          "height": 455
        },
        "deletable": false,
        "nbgrader": {
          "cell_type": "code",
          "checksum": "424d241660318a72ecda935be10485d7",
          "grade": false,
          "grade_id": "cell-96dba18873c4cffc",
          "locked": false,
          "schema_version": 3,
          "solution": true,
          "task": false
        },
        "id": "3SMGYLMCo8kw",
        "outputId": "0e7365a4-3795-43e4-f66c-fc5ff2a95dc9"
      },
      "source": [
        "# use the plotting method in your dataframe to plot the modeling results \n",
        "\n",
        "# YOUR CODE HERE\n",
        "import matplotlib.pyplot as plt\n",
        "%matplotlib inline\n",
        "\n",
        "# notice that we can't just draw a line to seperate the two classes\n",
        "# that's because perceptrons are essentially logistic regression when we choose the sigmoid as our activation function\n",
        "# logisitic regression are linear functions that assume that data is linearly distributed \n",
        "# our data is not linearly distributed \n",
        "sns.relplot(x=\"loss\", y=\"val_loss\", hue=\"val_accuracy\",\n",
        "            sizes=(40, 400), alpha=1, palette=\"muted\",\n",
        "            height=6, data=df);"
      ],
      "execution_count": 115,
      "outputs": [
        {
          "output_type": "display_data",
          "data": {
            "image/png": "[encoded data removed]",
            "text/plain": [
              "<Figure size 597.25x432 with 1 Axes>"
            ]
          },
          "metadata": {
            "tags": [],
            "needs_background": "light"
          }
        }
      ]
    },
    {
      "cell_type": "markdown",
      "metadata": {
        "id": "6l6BgxRlo8kw"
      },
      "source": [
        "### Observations \n",
        "\n",
        "Based on the plot of the training and validation loss answer the following questions. "
      ]
    },
    {
      "cell_type": "markdown",
      "metadata": {
        "id": "m4MJ17i7o8kw"
      },
      "source": [
        "**Was our model able to learn over the course of the 20 epochs? Why or why not?**"
      ]
    },
    {
      "cell_type": "markdown",
      "metadata": {
        "deletable": false,
        "nbgrader": {
          "cell_type": "markdown",
          "checksum": "b7713eb32ad3a910a58dfdb9494a9db3",
          "grade": true,
          "grade_id": "cell-820990a8232a858a",
          "locked": false,
          "points": 0,
          "schema_version": 3,
          "solution": true,
          "task": false
        },
        "id": "1basBYElo8kw"
      },
      "source": [
        "I don't think it was improving"
      ]
    },
    {
      "cell_type": "markdown",
      "metadata": {
        "id": "MaFOGDG0o8kw"
      },
      "source": [
        "**Is our model overfitting? Why or why not?**"
      ]
    },
    {
      "cell_type": "markdown",
      "metadata": {
        "deletable": false,
        "nbgrader": {
          "cell_type": "markdown",
          "checksum": "1d30c64465cd35081d70578c20ecf96d",
          "grade": true,
          "grade_id": "cell-33868e7ef6e401b5",
          "locked": false,
          "points": 0,
          "schema_version": 3,
          "solution": true,
          "task": false
        },
        "id": "jj8KyNPco8kx"
      },
      "source": [
        "Yes because it doesn't predict correctly"
      ]
    },
    {
      "cell_type": "markdown",
      "metadata": {
        "id": "7wz-qZUFo8kx"
      },
      "source": [
        "**Could the model score benefit from additional epochs? Why or why not?**"
      ]
    },
    {
      "cell_type": "markdown",
      "metadata": {
        "deletable": false,
        "nbgrader": {
          "cell_type": "markdown",
          "checksum": "0fc2208e2c78461578fc7a05224066b8",
          "grade": true,
          "grade_id": "cell-5c883f0a3161e469",
          "locked": false,
          "points": 0,
          "schema_version": 3,
          "solution": true,
          "task": false
        },
        "id": "6jJeCQU0o8kx"
      },
      "source": [
        "No because it is overfitting the data"
      ]
    },
    {
      "cell_type": "markdown",
      "metadata": {
        "id": "MAhBrcE4yOZe"
      },
      "source": [
        "-----\n",
        "## Change Optimizers\n",
        "\n",
        "Let's compare model performance between difference optimizers. \n",
        "- Build a new model, identical as the last one but using `adam` for the optimizer. \n",
        "- Visualize the training results just as we did for the last model. \n",
        "- Save modeling results to adam_history so we don't erase the results from the previous model run"
      ]
    },
    {
      "cell_type": "code",
      "metadata": {
        "deletable": false,
        "id": "jIW_spOZ0cxy",
        "nbgrader": {
          "cell_type": "code",
          "checksum": "6d30d8c6f4521861a77c9ef04dbde904",
          "grade": false,
          "grade_id": "cell-56663c8a5e75b71f",
          "locked": false,
          "schema_version": 3,
          "solution": true,
          "task": false
        }
      },
      "source": [
        "# train same model as above but use sgd if you used adam previously ( or use adam if you used sgd previously)\n",
        "\n",
        "# YOUR CODE HERE\n",
        "model.compile(loss='sparse_categorical_crossentropy', optimizer='adam', metrics=['accuracy'])"
      ],
      "execution_count": 124,
      "outputs": []
    },
    {
      "cell_type": "code",
      "metadata": {
        "id": "e2hW_6z3o8ky"
      },
      "source": [
        "# a check that we're using the correct optimizer in this model\n",
        "opt_name = model.optimizer.get_config()[\"name\"]\n",
        "assert opt_name == \"Adam\", \"you need to use adam for the optimizer in this model.\""
      ],
      "execution_count": 125,
      "outputs": []
    },
    {
      "cell_type": "code",
      "metadata": {
        "deletable": false,
        "nbgrader": {
          "cell_type": "code",
          "checksum": "1a4c01aa7dbcc832d75b05bffaeaacc8",
          "grade": false,
          "grade_id": "cell-20118d1646215346",
          "locked": false,
          "schema_version": 3,
          "solution": true,
          "task": false
        },
        "id": "HF_tit78o8ky",
        "outputId": "f85d64cb-378f-46c3-d8c9-67ec0ff3b6a5",
        "colab": {
          "base_uri": "https://localhost:8080/"
        }
      },
      "source": [
        "# YOUR CODE HERE\n",
        "# fit your model and save training resuts to history \n",
        "history_adams = model.fit(X_scaled, y, \n",
        "                    epochs=20, \n",
        "                    # test set will be generated within the model\n",
        "                    validation_split=0.2\n",
        "                   )"
      ],
      "execution_count": 128,
      "outputs": [
        {
          "output_type": "stream",
          "text": [
            "Epoch 1/20\n",
            "2500/2500 [==============================] - 7s 3ms/step - loss: 4.6052 - accuracy: 8.1250e-04 - val_loss: 4.6052 - val_accuracy: 9.0000e-04\n",
            "Epoch 2/20\n",
            "2500/2500 [==============================] - 6s 2ms/step - loss: 4.6052 - accuracy: 8.1250e-04 - val_loss: 4.6052 - val_accuracy: 9.0000e-04\n",
            "Epoch 3/20\n",
            "2500/2500 [==============================] - 6s 2ms/step - loss: 4.6052 - accuracy: 8.1250e-04 - val_loss: 4.6052 - val_accuracy: 9.0000e-04\n",
            "Epoch 4/20\n",
            "2500/2500 [==============================] - 6s 2ms/step - loss: 4.6052 - accuracy: 8.1250e-04 - val_loss: 4.6052 - val_accuracy: 9.0000e-04\n",
            "Epoch 5/20\n",
            "2500/2500 [==============================] - 6s 2ms/step - loss: 4.6052 - accuracy: 8.1250e-04 - val_loss: 4.6052 - val_accuracy: 9.0000e-04\n",
            "Epoch 6/20\n",
            "2500/2500 [==============================] - 6s 3ms/step - loss: 4.6052 - accuracy: 8.1250e-04 - val_loss: 4.6052 - val_accuracy: 9.0000e-04\n",
            "Epoch 7/20\n",
            "2500/2500 [==============================] - 6s 2ms/step - loss: 4.6052 - accuracy: 8.1250e-04 - val_loss: 4.6052 - val_accuracy: 9.0000e-04\n",
            "Epoch 8/20\n",
            "2500/2500 [==============================] - 6s 3ms/step - loss: 4.6052 - accuracy: 8.1250e-04 - val_loss: 4.6052 - val_accuracy: 9.0000e-04\n",
            "Epoch 9/20\n",
            "2500/2500 [==============================] - 6s 3ms/step - loss: 4.6052 - accuracy: 8.1250e-04 - val_loss: 4.6052 - val_accuracy: 9.0000e-04\n",
            "Epoch 10/20\n",
            "2500/2500 [==============================] - 6s 2ms/step - loss: 4.6052 - accuracy: 8.1250e-04 - val_loss: 4.6052 - val_accuracy: 9.0000e-04\n",
            "Epoch 11/20\n",
            "2500/2500 [==============================] - 6s 2ms/step - loss: 4.6052 - accuracy: 8.1250e-04 - val_loss: 4.6052 - val_accuracy: 9.0000e-04\n",
            "Epoch 12/20\n",
            "2500/2500 [==============================] - 6s 2ms/step - loss: 4.6052 - accuracy: 8.1250e-04 - val_loss: 4.6052 - val_accuracy: 9.0000e-04\n",
            "Epoch 13/20\n",
            "2500/2500 [==============================] - 6s 3ms/step - loss: 4.6052 - accuracy: 8.1250e-04 - val_loss: 4.6052 - val_accuracy: 9.0000e-04\n",
            "Epoch 14/20\n",
            "2500/2500 [==============================] - 6s 3ms/step - loss: 4.6052 - accuracy: 8.1250e-04 - val_loss: 4.6052 - val_accuracy: 9.0000e-04\n",
            "Epoch 15/20\n",
            "2500/2500 [==============================] - 6s 2ms/step - loss: 4.6052 - accuracy: 8.1250e-04 - val_loss: 4.6052 - val_accuracy: 9.0000e-04\n",
            "Epoch 16/20\n",
            "2500/2500 [==============================] - 6s 2ms/step - loss: 4.6052 - accuracy: 8.1250e-04 - val_loss: 4.6052 - val_accuracy: 9.0000e-04\n",
            "Epoch 17/20\n",
            "2500/2500 [==============================] - 6s 2ms/step - loss: 4.6052 - accuracy: 8.1250e-04 - val_loss: 4.6052 - val_accuracy: 9.0000e-04\n",
            "Epoch 18/20\n",
            "2500/2500 [==============================] - 6s 3ms/step - loss: 4.6052 - accuracy: 8.1250e-04 - val_loss: 4.6052 - val_accuracy: 9.0000e-04\n",
            "Epoch 19/20\n",
            "2500/2500 [==============================] - 6s 2ms/step - loss: 4.6052 - accuracy: 8.1250e-04 - val_loss: 4.6052 - val_accuracy: 9.0000e-04\n",
            "Epoch 20/20\n",
            "2500/2500 [==============================] - 6s 2ms/step - loss: 4.6052 - accuracy: 8.1250e-04 - val_loss: 4.6052 - val_accuracy: 9.0000e-04\n"
          ],
          "name": "stdout"
        }
      ]
    },
    {
      "cell_type": "code",
      "metadata": {
        "id": "gCDcybraRLjf",
        "outputId": "a951f3a7-df8a-4cf1-d91c-b2ef3651c045",
        "colab": {
          "base_uri": "https://localhost:8080/",
          "height": 364
        }
      },
      "source": [
        "# Save result into DataFrame\n",
        "df_adams = pd.DataFrame(history_adams.history)\n",
        "\n",
        "import seaborn as sns\n",
        "\n",
        "epochs = [i for i in range(len(history_adams.history['loss']))]\n",
        "sns.lineplot(epochs, history_adams.history['loss'], label=\"train\")\n",
        "sns.lineplot(epochs, history_adams.history['val_loss'], label=\"test\");"
      ],
      "execution_count": 131,
      "outputs": [
        {
          "output_type": "stream",
          "text": [
            "/usr/local/lib/python3.7/dist-packages/seaborn/_decorators.py:43: FutureWarning: Pass the following variables as keyword args: x, y. From version 0.12, the only valid positional argument will be `data`, and passing other arguments without an explicit keyword will result in an error or misinterpretation.\n",
            "  FutureWarning\n",
            "/usr/local/lib/python3.7/dist-packages/seaborn/_decorators.py:43: FutureWarning: Pass the following variables as keyword args: x, y. From version 0.12, the only valid positional argument will be `data`, and passing other arguments without an explicit keyword will result in an error or misinterpretation.\n",
            "  FutureWarning\n"
          ],
          "name": "stderr"
        },
        {
          "output_type": "display_data",
          "data": {
            "image/png": "[encoded data removed]",
            "text/plain": [
              "<Figure size 432x288 with 1 Axes>"
            ]
          },
          "metadata": {
            "tags": [],
            "needs_background": "light"
          }
        }
      ]
    },
    {
      "cell_type": "code",
      "metadata": {
        "id": "jiUH0BcxRXXr",
        "outputId": "a1f4676b-2bd0-4abd-f91a-61767efe8353",
        "colab": {
          "base_uri": "https://localhost:8080/",
          "height": 455
        }
      },
      "source": [
        "import matplotlib.pyplot as plt\n",
        "%matplotlib inline\n",
        "\n",
        "# notice that we can't just draw a line to seperate the two classes\n",
        "# that's because perceptrons are essentially logistic regression when we choose the sigmoid as our activation function\n",
        "# logisitic regression are linear functions that assume that data is linearly distributed \n",
        "# our data is not linearly distributed \n",
        "sns.relplot(x=\"loss\", y=\"val_loss\", hue=\"val_accuracy\",\n",
        "            sizes=(40, 400), alpha=1, palette=\"muted\",\n",
        "            height=6, data=df_adams);"
      ],
      "execution_count": 132,
      "outputs": [
        {
          "output_type": "display_data",
          "data": {
            "image/png": "[encoded data removed]",
            "text/plain": [
              "<Figure size 597.25x432 with 1 Axes>"
            ]
          },
          "metadata": {
            "tags": [],
            "needs_background": "light"
          }
        }
      ]
    },
    {
      "cell_type": "markdown",
      "metadata": {
        "id": "IyFyaosNo8ky"
      },
      "source": [
        "### Observations \n",
        "\n",
        "This plot should look very different from the previous plot. Based on the plot of the training and validation loss answer the following questions. "
      ]
    },
    {
      "cell_type": "markdown",
      "metadata": {
        "id": "dXlugaZDo8ky"
      },
      "source": [
        "**Is our model overfitting? Why or why not?**"
      ]
    },
    {
      "cell_type": "markdown",
      "metadata": {
        "deletable": false,
        "nbgrader": {
          "cell_type": "markdown",
          "checksum": "fa4141497af675d227aa510feb8db732",
          "grade": true,
          "grade_id": "cell-7e524ccac970c33e",
          "locked": false,
          "points": 0,
          "schema_version": 3,
          "solution": true,
          "task": false
        },
        "id": "OlP4Gma6o8ky"
      },
      "source": [
        "Yes because I don't see any improvement"
      ]
    },
    {
      "cell_type": "markdown",
      "metadata": {
        "id": "KWh4vzxqo8kz"
      },
      "source": [
        "**Could our model's performance improve by training on more than 20 epochs? Why or why not?**"
      ]
    },
    {
      "cell_type": "markdown",
      "metadata": {
        "deletable": false,
        "nbgrader": {
          "cell_type": "markdown",
          "checksum": "ae03b8b897eb5d052590574ab3bba839",
          "grade": true,
          "grade_id": "cell-456c40e885652955",
          "locked": false,
          "points": 0,
          "schema_version": 3,
          "solution": true,
          "task": false
        },
        "id": "1cRK8Zk2o8kz"
      },
      "source": [
        "No because of overfitting"
      ]
    },
    {
      "cell_type": "markdown",
      "metadata": {
        "id": "INTY5HSyo8kz"
      },
      "source": [
        "**Assuming that you want to stick to this model architecture, what can you do to avoid overfitting?**"
      ]
    },
    {
      "cell_type": "markdown",
      "metadata": {
        "deletable": false,
        "nbgrader": {
          "cell_type": "markdown",
          "checksum": "9f5a9393314231d3ce253363c1df1223",
          "grade": true,
          "grade_id": "cell-74d7def19c66702b",
          "locked": false,
          "points": 0,
          "schema_version": 3,
          "solution": true,
          "task": false
        },
        "id": "5eS0EEejo8kz"
      },
      "source": [
        "Don't know"
      ]
    },
    {
      "cell_type": "markdown",
      "metadata": {
        "id": "PvVjD2sAo8kz"
      },
      "source": [
        "------\n",
        "# Conclusion \n",
        "\n",
        "What you have observed by comparing the two models that are identitical, except for the optimizer, is that the choice of the optimizer can have a very big influence in the training outcome of ML models in general and in a neural networks in particuar. \n",
        "\n",
        "You might not actually know \n",
        "\n",
        "- why changing the optimizer from Stocastic Gradient Descent over to Adam made a difference.\n",
        "- how Gradient Desecent works \n",
        "- or that Adam is known as Adaptive Gradient Descent (i.e. is it a different version of ordinary Gradient Descent). \n",
        "\n",
        "But that's ok - tomorrow's lesson will be a deep dive into Gradient Descent. You'll learn the theory of Gradient Descent, we'll code up Gradient Descent from scratch, and we'll talk about how Adam is different from ordinary Gradient Descent. "
      ]
    },
    {
      "cell_type": "markdown",
      "metadata": {
        "id": "LjHAwO51o8kz"
      },
      "source": [
        "-----\n",
        "# Preparation for Tomorrow \n",
        "\n",
        "In Preparation for tomorrow, you might need to watch a few videos. I say might because you may or may not already be comfortable with multi-variate calculus. \n",
        "\n",
        "### Theory of Calculus \n",
        "The theory of Gradient Descent rest on [**the derivative from Calculus**](https://www.youtube.com/watch?v=WUvTyaaNkzM). If you've never taken a Calculus course before, or are a bit rusty, definitely watch this video in preparation for tomorrow's lesson. The take away here is to conceptually understand the derivative, you won't be asked to actually calculate any derivatives by hand. \n",
        "\n",
        "### The Gradient - a multi-dimensional derivative\n",
        "Once you've watched the previous video, you are now set up to  understand how to conceptualize a derivative in an N-dimensional space (where N is any number ranging from 2, 3, 4, ..., all the way to a very large number of dimensions N ) [**This video visually explains the multi-dimensional derivative called the Gradient visually**](https://www.youtube.com/watch?v=GkB4vW16QHI) - and that's the take away. This point of this video is to help you understand the Gradient visually using 3D surfaces. You should also know that the Gradient is made of up partial derivatives, more on this tomorrow. \n",
        "\n",
        "### Contour Maps \n",
        "It is very common to visual 3D surfaces as 2D contour maps - and we'll be making a lot of use of contour maps to understand Gradient Descent. Watch this video in order to [**understand the relationship between 3D surfaces and 2D contour maps**](https://www.youtube.com/watch?v=acdX4YamDtU)\n",
        "\n",
        "### The Calculus of Backpropagation \n",
        "\n",
        "Unlike standard Sklearn ML models, neural networks use not just Gradient Descent but also something called Backpropagatin in order to learn from the data. [**In order to understand how backpropagation works, you need to understand the Chain Rule in Calculus**](https://www.youtube.com/watch?v=acdX4YamDtU). The take away here is to understand how a partial derivative can be decomposed into a product of multiple derivatives. "
      ]
    },
    {
      "cell_type": "markdown",
      "metadata": {
        "id": "kCHCBOCBo8k0"
      },
      "source": [
        "------\n",
        "# Stretch Goals\n",
        "\n",
        "### This section is optional!\n",
        "\n",
        "Only after you've completed the above work and watched the recommended videos, are you then encouraged to experiment with building a few more models and analyze their results. \n",
        "\n",
        "Here are some suggestions to help you get started. \n",
        "\n",
        "- Train the same model using the Sigmoid activation fucntion and the Relu activation function and note the difference in their learning outcomes.  [**Keras docs on activation fucntions**](https://keras.io/api/layers/activations/). We'll cover the Relu activation function in Sprint 2 Module 3.\n",
        "- Train the same model using Normalized and non-Normalized data and note the difference in their learning outcomes. \n",
        "\n",
        "\n",
        "The objective here is to give you an oppertunity to get more practice with the Keras API (i.e. building models) and running a couple of experiments to help set you up for future lessons. In order words, we'll be discussing different activation functions and the affect of Normalized data on model training. "
      ]
    },
    {
      "cell_type": "code",
      "metadata": {
        "id": "sNVtVMqXo8k1"
      },
      "source": [
        ""
      ],
      "execution_count": null,
      "outputs": []
    },
    {
      "cell_type": "code",
      "metadata": {
        "id": "aa5psJsvo8k1"
      },
      "source": [
        ""
      ],
      "execution_count": null,
      "outputs": []
    }
  ]
}